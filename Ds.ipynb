{
 "cells": [
  {
   "cell_type": "markdown",
   "id": "e476c50d-a0cd-4233-8235-ab661ad07a33",
   "metadata": {},
   "source": [
    "### Give me high score"
   ]
  },
  {
   "attachments": {},
   "cell_type": "markdown",
   "id": "2f45b831-7e1f-4969-9756-4c87353b2097",
   "metadata": {},
   "source": [
    "### Languages\n",
    "- R\n",
    "- Python\n",
    "- SQL"
   ]
  },
  {
   "cell_type": "markdown",
   "id": "44c8608b-515e-4829-b7cd-e4ad9557b9d5",
   "metadata": {},
   "source": [
    "### Libraries\n",
    "- Pandas\n",
    "- Numpy\n",
    "- Seaborn"
   ]
  },
  {
   "cell_type": "markdown",
   "id": "c7fbec10-e07f-4f5c-a88b-e2ea631d090c",
   "metadata": {},
   "source": [
    "### Data Science Tools   \n",
    "- Jupyter                        \n",
    "- GitHub       "
   ]
  },
  {
   "cell_type": "markdown",
   "id": "e104744c-dd8a-43d5-b2a5-460fae565db3",
   "metadata": {},
   "source": [
    "### Examples arithmetic"
   ]
  },
  {
   "cell_type": "code",
   "execution_count": 1,
   "id": "d1783334-c999-456c-bbef-02492409d4ec",
   "metadata": {},
   "outputs": [
    {
     "name": "stdout",
     "output_type": "stream",
     "text": [
      "4\n"
     ]
    }
   ],
   "source": [
    "a = 1+1*3\n",
    "print(a)"
   ]
  },
  {
   "cell_type": "code",
   "execution_count": 3,
   "id": "4ddaca84-c15e-4f83-b2f5-91ec7ce43784",
   "metadata": {},
   "outputs": [
    {
     "name": "stdout",
     "output_type": "stream",
     "text": [
      "3.0\n"
     ]
    }
   ],
   "source": [
    "print(180/60)"
   ]
  },
  {
   "cell_type": "markdown",
   "id": "ddb66a9e-369e-4b57-9cd6-ed1cad627c23",
   "metadata": {},
   "source": [
    "### Objectives:\n",
    "\n",
    "- Languages of  Data Science.\n",
    "- Libraries used in Data Science.\n",
    "- Arithmetic in Python."
   ]
  },
  {
   "cell_type": "markdown",
   "id": "a3c60ed5-57f9-418f-8789-fbe2d497ba77",
   "metadata": {},
   "source": [
    "# Author : Kaiser"
   ]
  }
 ],
 "metadata": {
  "kernelspec": {
   "display_name": "Python 3 (ipykernel)",
   "language": "python",
   "name": "python3"
  },
  "language_info": {
   "codemirror_mode": {
    "name": "ipython",
    "version": 3
   },
   "file_extension": ".py",
   "mimetype": "text/x-python",
   "name": "python",
   "nbconvert_exporter": "python",
   "pygments_lexer": "ipython3",
   "version": "3.12.4"
  }
 },
 "nbformat": 4,
 "nbformat_minor": 5
}
